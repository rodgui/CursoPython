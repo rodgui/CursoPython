{
 "cells": [
  {
   "cell_type": "markdown",
   "metadata": {},
   "source": [
    "## Imprimindo com parametros (Rodar em Python 3.9 ou superior)"
   ]
  },
  {
   "cell_type": "code",
   "execution_count": 175,
   "metadata": {},
   "outputs": [
    {
     "name": "stdout",
     "output_type": "stream",
     "text": [
      "Este é meu nome: Rodrigo. E sobrenome: Garcia\n"
     ]
    }
   ],
   "source": [
    "nome = \"Rodrigo\"\n",
    "sobrenome = \"Garcia\"\n",
    "print(\"Este é meu nome: %s. E sobrenome: %s\" %(nome,sobrenome))"
   ]
  },
  {
   "cell_type": "markdown",
   "metadata": {},
   "source": [
    "## Imprimindo com ExpandTabs"
   ]
  },
  {
   "cell_type": "code",
   "execution_count": 176,
   "metadata": {},
   "outputs": [
    {
     "name": "stdout",
     "output_type": "stream",
     "text": [
      "H e l l o\n"
     ]
    }
   ],
   "source": [
    "txt = \"H\\te\\tl\\tl\\to\"\n",
    "\n",
    "x =  txt.expandtabs(2)\n",
    "\n",
    "print(x)"
   ]
  },
  {
   "cell_type": "code",
   "execution_count": 177,
   "metadata": {},
   "outputs": [
    {
     "name": "stdout",
     "output_type": "stream",
     "text": [
      "Original string: this is\tstring example....wow!!!\n",
      "Default exapanded tab: this is string example....wow!!!\n",
      "Double exapanded tab: this is         string example....wow!!!\n"
     ]
    }
   ],
   "source": [
    "texto = \"this is\\tstring example....wow!!!\"\n",
    "print(\"Original string: \" + texto)\n",
    "print(\"Default exapanded tab: \" + texto.expandtabs())\n",
    "print(\"Double exapanded tab: \" + texto.expandtabs(16))\n"
   ]
  },
  {
   "cell_type": "code",
   "execution_count": 178,
   "metadata": {},
   "outputs": [
    {
     "name": "stdout",
     "output_type": "stream",
     "text": [
      "Original string: this is\tstring example....wow!!!\n",
      "Default exapanded tab: this is string example....wow!!!\n",
      "Double exapanded tab: this is         string example....wow!!!\n"
     ]
    }
   ],
   "source": [
    "texto = \"this is\\tstring example....wow!!!\"\n",
    "\n",
    "print(\"Original string: %s\" % (texto))\n",
    "print(\"Default exapanded tab: %s\" % (texto.expandtabs()))\n",
    "print(\"Double exapanded tab: %s\" % (texto.expandtabs(16)))\n"
   ]
  },
  {
   "cell_type": "markdown",
   "metadata": {},
   "source": [
    "## Metodo Format "
   ]
  },
  {
   "cell_type": "markdown",
   "metadata": {},
   "source": [
    "Pytnon Formatação\n",
    "https://pyformat.info"
   ]
  },
  {
   "cell_type": "code",
   "execution_count": 179,
   "metadata": {},
   "outputs": [
    {
     "name": "stdout",
     "output_type": "stream",
     "text": [
      "One: 1, Two: two, Three: 12.3\n"
     ]
    }
   ],
   "source": [
    "a1 = 'One: {a}, Two: {b}, Three: {c}'.format(a=1, b='two', c=12.3)\n",
    "print(a1)"
   ]
  },
  {
   "cell_type": "markdown",
   "metadata": {},
   "source": [
    "## * Listas *"
   ]
  },
  {
   "cell_type": "code",
   "execution_count": 180,
   "metadata": {},
   "outputs": [
    {
     "name": "stdout",
     "output_type": "stream",
     "text": [
      "['a', 'b', 'c', 'texto']\n",
      "['b', 'c', 'texto']\n",
      "['a', 'b', 'c']\n",
      "texto\n"
     ]
    },
    {
     "data": {
      "text/plain": [
       "['a', 'b', 'c', 'texto', 'a', 'b', 'c', 'texto', 'a', 'b', 'c', 'texto']"
      ]
     },
     "execution_count": 180,
     "metadata": {},
     "output_type": "execute_result"
    }
   ],
   "source": [
    "#Definindo lista\n",
    "var = 1\n",
    "my_list = ['a','b','c',\"texto\"]\n",
    "\n",
    "print(my_list[:])\n",
    "print(my_list[1:])\n",
    "print(my_list[:3])\n",
    "print(my_list[-1])\n",
    "my_list * 3\n"
   ]
  },
  {
   "cell_type": "code",
   "execution_count": 181,
   "metadata": {},
   "outputs": [
    {
     "name": "stdout",
     "output_type": "stream",
     "text": [
      "['a', 'b', 'c', 'texto']\n",
      "['a', 'b', 'c', 'texto', 'mais um']\n"
     ]
    }
   ],
   "source": [
    "#Adicionando elemento ao final da lista\n",
    "print(my_list)\n",
    "my_list.append(\"mais um\")\n",
    "print(my_list)\n"
   ]
  },
  {
   "cell_type": "code",
   "execution_count": 182,
   "metadata": {},
   "outputs": [
    {
     "name": "stdout",
     "output_type": "stream",
     "text": [
      "['a', 'b', 'c', 'texto', 'mais um']\n"
     ]
    },
    {
     "data": {
      "text/plain": [
       "['a', 'b', 'c', 'texto']"
      ]
     },
     "execution_count": 182,
     "metadata": {},
     "output_type": "execute_result"
    }
   ],
   "source": [
    "#Removendo ultimo elemento da lista\n",
    "print(my_list)\n",
    "my_list.pop()\n",
    "my_list"
   ]
  },
  {
   "cell_type": "code",
   "execution_count": 183,
   "metadata": {},
   "outputs": [
    {
     "name": "stdout",
     "output_type": "stream",
     "text": [
      "['a', 'b', 'c', 'texto']\n",
      "['a', 'b', 'texto']\n"
     ]
    }
   ],
   "source": [
    "# Removendo um elemento da lista baseado na posição\n",
    "print(my_list)\n",
    "my_list.pop(2)\n",
    "print(my_list)"
   ]
  },
  {
   "cell_type": "code",
   "execution_count": 184,
   "metadata": {},
   "outputs": [
    {
     "data": {
      "text/plain": [
       "['a', 'd', 'b', 'c', 'texto']"
      ]
     },
     "execution_count": 184,
     "metadata": {},
     "output_type": "execute_result"
    }
   ],
   "source": [
    "# Adicionando um elemento no meio da lista\n",
    "my_list = ['a','b','c',\"texto\"]\n",
    "my_list\n",
    "my_list.insert(1,'d')\n",
    "my_list"
   ]
  },
  {
   "cell_type": "code",
   "execution_count": 185,
   "metadata": {},
   "outputs": [
    {
     "name": "stdout",
     "output_type": "stream",
     "text": [
      "['a', 'b', 'c', 'texto']\n"
     ]
    },
    {
     "data": {
      "text/plain": [
       "['a', 'c', 'texto']"
      ]
     },
     "execution_count": 185,
     "metadata": {},
     "output_type": "execute_result"
    }
   ],
   "source": [
    "#Removendo elemento da lista baseado no valor/texto\n",
    "my_list = ['a','b','c',\"texto\"]\n",
    "print(my_list)\n",
    "my_list.remove('b')\n",
    "my_list"
   ]
  },
  {
   "cell_type": "markdown",
   "metadata": {},
   "source": [
    "### Aninhamento de Listas - Usando Matrix"
   ]
  },
  {
   "cell_type": "code",
   "execution_count": 186,
   "metadata": {},
   "outputs": [
    {
     "name": "stdout",
     "output_type": "stream",
     "text": [
      "[[1, 2, 3], [4, 5, 6], [7, 8, 9]]\n",
      "tamanho: 3\n",
      "2\n"
     ]
    }
   ],
   "source": [
    "lst_1 = [1,2,3]\n",
    "lst_2 = [4,5,6]\n",
    "lst_3 = [7,8,9]\n",
    "matrix = [lst_1, lst_2, lst_3]\n",
    "print(matrix)\n",
    "print('tamanho: ' + str(len(matrix)))\n",
    "print(matrix[0][1])"
   ]
  },
  {
   "cell_type": "markdown",
   "metadata": {},
   "source": [
    "### Compreensão em Listas"
   ]
  },
  {
   "cell_type": "code",
   "execution_count": 187,
   "metadata": {},
   "outputs": [
    {
     "data": {
      "text/plain": [
       "[1, 4, 7]"
      ]
     },
     "execution_count": 187,
     "metadata": {},
     "output_type": "execute_result"
    }
   ],
   "source": [
    "# Pegando somente a primeira coluna de cada linha da matrix\n",
    "lst_1=[1,2,3]\n",
    "lst_2=[4,5,6]\n",
    "lst_3=[7,8,9]\n",
    "matrix=[lst_1, lst_2, lst_3]\n",
    "first_col = [row[0] for row in matrix]\n",
    "first_col"
   ]
  },
  {
   "cell_type": "code",
   "execution_count": 188,
   "metadata": {},
   "outputs": [
    {
     "data": {
      "text/plain": [
       "[1, 2, 3]"
      ]
     },
     "execution_count": 188,
     "metadata": {},
     "output_type": "execute_result"
    }
   ],
   "source": [
    "# Comparando com Listas\n",
    "lista = [1,2,3]\n",
    "lista"
   ]
  },
  {
   "cell_type": "markdown",
   "metadata": {},
   "source": [
    "## Dicionários"
   ]
  },
  {
   "cell_type": "code",
   "execution_count": 189,
   "metadata": {},
   "outputs": [
    {
     "name": "stdout",
     "output_type": "stream",
     "text": [
      "1 - {'key1': 1.2, 'key2': 'textoqualquer', 'key3': 23, 'key4': [1, 2, 3, [4, 5, 6]]}\n",
      "2 - textoqualquer\n",
      "3 - TEXTOQUALQUER\n",
      "4 - x\n",
      "5 - reuqlauqotxet\n",
      "6 - {'key1': 1.2, 'key2': 'textoqualquer', 'key3': 25, 'key4': [1, 2, 3, [4, 5, 6]]}\n"
     ]
    }
   ],
   "source": [
    "my_dict = {'key1':1.2, 'key2':'textoqualquer','key3':23,'key4':[1,2,3,[4,5,6]]}\n",
    "print('1 - ' + str(my_dict))\n",
    "print('2 - ' + my_dict['key2'])\n",
    "\n",
    "# Python interpreta a chave do tipo string como string, por isto pode utilizar metodos de string\n",
    "print('3 - ' + my_dict['key2'].upper())\n",
    "print('4 - ' + my_dict['key2'][2])\n",
    "print('5 - ' + my_dict['key2'][::-1])\n",
    "\n",
    "# Valores são mutaveis\n",
    "my_dict['key3'] = 25\n",
    "print('6 - ' + str(my_dict))\n"
   ]
  },
  {
   "cell_type": "code",
   "execution_count": 190,
   "metadata": {},
   "outputs": [
    {
     "name": "stdout",
     "output_type": "stream",
     "text": [
      "{'chave1': 'Dog'}\n",
      "{'chave1': 'Dog', 'chave2': 'Cat', 'chave3': 1980}\n"
     ]
    }
   ],
   "source": [
    "# Outra forma mais simples de criar dicionario\n",
    "my_dict2 = {}\n",
    "my_dict2['chave1'] = 'Dog'\n",
    "print(my_dict2)\n",
    "my_dict2['chave2'] = 'Cat'\n",
    "my_dict2['chave3'] = 1980\n",
    "print(my_dict2)"
   ]
  },
  {
   "cell_type": "code",
   "execution_count": 191,
   "metadata": {},
   "outputs": [
    {
     "name": "stdout",
     "output_type": "stream",
     "text": [
      "{'key1': 1.2, 'key2': 'textoqualquer', 'key3': 23, 'key4': {'chave1': 444, 'chave2': 'Rodrigo'}}\n",
      "textoqualquer\n",
      "{'chave1': 444, 'chave2': 'Rodrigo'}\n"
     ]
    }
   ],
   "source": [
    "# Aninhando Dicionarios\n",
    "my_dict3 = {'key1':1.2, 'key2':'textoqualquer','key3':23,'key4':{'chave1':444,'chave2':'Rodrigo'}}\n",
    "print(my_dict3)\n",
    "print(my_dict3['key2'])\n",
    "print(my_dict3['key4'])"
   ]
  },
  {
   "cell_type": "code",
   "execution_count": 192,
   "metadata": {},
   "outputs": [
    {
     "name": "stdout",
     "output_type": "stream",
     "text": [
      "Metodos Keys\n",
      "dict_keys(['key1', 'key2', 'key3', 'key4'])\n",
      "['key1', 'key2', 'key3', 'key4']\n",
      "key3\n",
      "dict_keys(['chave1', 'chave2'])\n",
      "------\n",
      "Metodos Values\n",
      "dict_values([1.2, 'textoqualquer', 23, {'chave1': 444, 'chave2': 'Rodrigo'}])\n",
      "Metodos Itens\n",
      "dict_items([('key1', 1.2), ('key2', 'textoqualquer'), ('key3', 23), ('key4', {'chave1': 444, 'chave2': 'Rodrigo'})])\n"
     ]
    }
   ],
   "source": [
    "# Metódos de Dicionários\n",
    "print('Metodos Keys')\n",
    "print(my_dict3.keys())\n",
    "print(list(my_dict3.keys()))\n",
    "print(list(my_dict3.keys())[2])\n",
    "print(my_dict3['key4'].keys())\n",
    "\n",
    "print('------')\n",
    "print('Metodos Values')\n",
    "print(my_dict3.values())\n",
    "\n",
    "print('Metodos Itens')\n",
    "print(my_dict3.items())"
   ]
  },
  {
   "cell_type": "code",
   "execution_count": null,
   "metadata": {},
   "outputs": [],
   "source": []
  },
  {
   "cell_type": "markdown",
   "metadata": {},
   "source": [
    "## Tuplas"
   ]
  },
  {
   "cell_type": "code",
   "execution_count": 193,
   "metadata": {},
   "outputs": [
    {
     "data": {
      "text/plain": [
       "tuple"
      ]
     },
     "execution_count": 193,
     "metadata": {},
     "output_type": "execute_result"
    }
   ],
   "source": [
    "t = (1,2,3)\n",
    "type(t)"
   ]
  },
  {
   "cell_type": "code",
   "execution_count": 194,
   "metadata": {},
   "outputs": [
    {
     "name": "stdout",
     "output_type": "stream",
     "text": [
      "(1, 2, 3)\n"
     ]
    }
   ],
   "source": [
    "print(t)"
   ]
  },
  {
   "cell_type": "code",
   "execution_count": 195,
   "metadata": {},
   "outputs": [
    {
     "data": {
      "text/plain": [
       "('um', 222, 1.2, [1, 2, 3])"
      ]
     },
     "execution_count": 195,
     "metadata": {},
     "output_type": "execute_result"
    }
   ],
   "source": [
    "t = ('um', 222, 1.2, [1,2,3])\n",
    "t"
   ]
  },
  {
   "cell_type": "code",
   "execution_count": 196,
   "metadata": {},
   "outputs": [
    {
     "name": "stdout",
     "output_type": "stream",
     "text": [
      "um\n",
      "(222, 1.2, [1, 2, 3])\n",
      "('um', 222)\n",
      "([1, 2, 3], 1.2, 222, 'um')\n"
     ]
    }
   ],
   "source": [
    "# Para puxar valores da tuplas\n",
    "print(t[0])\n",
    "print(t[1:])\n",
    "print(t[:2])\n",
    "print(t[::-1])"
   ]
  },
  {
   "cell_type": "code",
   "execution_count": 197,
   "metadata": {},
   "outputs": [
    {
     "name": "stdout",
     "output_type": "stream",
     "text": [
      "2\n",
      "1\n"
     ]
    }
   ],
   "source": [
    "# --- Metodos de tuplas ---\n",
    "# Retorno de indice\n",
    "t.index('um')\n",
    "\n",
    "# Contar quantas vezes o elemento aparece na tupla\n",
    "\n",
    "t1 = (1, 1, 1, 22, 22, 'teste', 'teste', 'ttt')\n",
    "print(t1.count(22))\n",
    "print(t1.count('ttt'))"
   ]
  },
  {
   "cell_type": "markdown",
   "metadata": {},
   "source": [
    "## Arquivos no Python"
   ]
  },
  {
   "cell_type": "code",
   "execution_count": 198,
   "metadata": {},
   "outputs": [],
   "source": [
    "#pwd"
   ]
  },
  {
   "cell_type": "code",
   "execution_count": 199,
   "metadata": {},
   "outputs": [],
   "source": [
    "my_file = open('Texto.txt')"
   ]
  },
  {
   "cell_type": "code",
   "execution_count": 200,
   "metadata": {},
   "outputs": [
    {
     "data": {
      "text/plain": [
       "<_io.TextIOWrapper name='Texto.txt' mode='r' encoding='UTF-8'>"
      ]
     },
     "execution_count": 200,
     "metadata": {},
     "output_type": "execute_result"
    }
   ],
   "source": [
    "my_file"
   ]
  },
  {
   "cell_type": "code",
   "execution_count": 201,
   "metadata": {},
   "outputs": [
    {
     "data": {
      "text/plain": [
       "'Texto 1\\nTexto 2\\nTexto 3'"
      ]
     },
     "execution_count": 201,
     "metadata": {},
     "output_type": "execute_result"
    }
   ],
   "source": [
    "# Leitura de Arquivo\n",
    "my_file.read()"
   ]
  },
  {
   "cell_type": "code",
   "execution_count": 202,
   "metadata": {},
   "outputs": [
    {
     "data": {
      "text/plain": [
       "'Texto 1\\n'"
      ]
     },
     "execution_count": 202,
     "metadata": {},
     "output_type": "execute_result"
    }
   ],
   "source": [
    "# Leitura de Arquivo 2\n",
    "my_file.seek(0)\n",
    "my_file.readline()"
   ]
  },
  {
   "cell_type": "code",
   "execution_count": 203,
   "metadata": {},
   "outputs": [
    {
     "name": "stdout",
     "output_type": "stream",
     "text": [
      "Texto 1\n",
      "\n",
      "Texto 2\n",
      "\n",
      "Texto 3\n"
     ]
    }
   ],
   "source": [
    "my_file.seek(0)\n",
    "for linha in my_file:\n",
    "    print(linha)"
   ]
  },
  {
   "cell_type": "markdown",
   "metadata": {},
   "source": [
    "## Comparação"
   ]
  },
  {
   "cell_type": "code",
   "execution_count": 204,
   "metadata": {},
   "outputs": [
    {
     "data": {
      "text/plain": [
       "True"
      ]
     },
     "execution_count": 204,
     "metadata": {},
     "output_type": "execute_result"
    }
   ],
   "source": [
    "a = 1\n",
    "b = 2\n",
    "c = 1\n",
    "a == c or b == 1"
   ]
  },
  {
   "cell_type": "markdown",
   "metadata": {},
   "source": [
    "## IF, elif e else"
   ]
  },
  {
   "cell_type": "code",
   "execution_count": 205,
   "metadata": {},
   "outputs": [
    {
     "data": {
      "text/plain": [
       "True"
      ]
     },
     "execution_count": 205,
     "metadata": {},
     "output_type": "execute_result"
    }
   ],
   "source": [
    "a = 1\n",
    "b = 1\n",
    "bol = a == b\n",
    "bol"
   ]
  },
  {
   "cell_type": "code",
   "execution_count": 206,
   "metadata": {},
   "outputs": [
    {
     "name": "stdout",
     "output_type": "stream",
     "text": [
      "11\n",
      "1\n"
     ]
    }
   ],
   "source": [
    "if bol:\n",
    "    a += 10\n",
    "c = 1\n",
    "print(a)\n",
    "print(c)"
   ]
  },
  {
   "cell_type": "code",
   "execution_count": 207,
   "metadata": {},
   "outputs": [
    {
     "name": "stdout",
     "output_type": "stream",
     "text": [
      "Aprovado\n",
      "Aluno: Bruno - Nota: 8\n",
      "Resultado:  Recuperação\n"
     ]
    }
   ],
   "source": [
    "a = [10, 5, 6, 8, 10, 9]\n",
    "b = {'Adriano': 10, 'Bruno': 8, 'Manoel': 5, 'Ana': 7}\n",
    "\n",
    "i = 4 # Indice do aluno\n",
    "j = 'Bruno' # Nome do aluno\n",
    "r = 'Resultado: '\n",
    "\n",
    "#Busca por matriz de nota\n",
    "if (a[i] >= 9):\n",
    "    print(\"Aprovado\")\n",
    "elif (a[i] >= 8):\n",
    "    print(\"Recuperação\")\n",
    "else:\n",
    "    print(\"Reprovado\")\n",
    "\n",
    "#Busca por nome do aluno\n",
    "print('Aluno: ' + j + ' - Nota: '+ str(b[j]))\n",
    "if (b[j] >= 9):\n",
    "    print(r + \" \" + \"Aprovado\")\n",
    "elif (b[j] >= 8):\n",
    "    print(r + \" \" + \"Recuperação\")\n",
    "else:\n",
    "    print(r + \" \" + \"Reprovado\")\n"
   ]
  },
  {
   "cell_type": "markdown",
   "metadata": {},
   "source": [
    "## For"
   ]
  },
  {
   "cell_type": "code",
   "execution_count": 236,
   "metadata": {},
   "outputs": [
    {
     "name": "stdout",
     "output_type": "stream",
     "text": [
      "[1, 2, 3, 4, 5, 6, 7]\n"
     ]
    }
   ],
   "source": [
    "l = [1, 2, 3, 4, 5, 6, 7]\n",
    "print(l)\n"
   ]
  },
  {
   "cell_type": "code",
   "execution_count": 228,
   "metadata": {},
   "outputs": [
    {
     "name": "stdout",
     "output_type": "stream",
     "text": [
      "1\n",
      "2\n",
      "3\n",
      "4\n",
      "5\n",
      "6\n",
      "7\n"
     ]
    }
   ],
   "source": [
    "for num in l:\n",
    "        print(num)"
   ]
  },
  {
   "cell_type": "code",
   "execution_count": 237,
   "metadata": {},
   "outputs": [
    {
     "name": "stdout",
     "output_type": "stream",
     "text": [
      "Num vezes 1: 1\n",
      "Num vezes 2: 2\n",
      "Num vezes 3: 3\n",
      "Num vezes 1: 2\n",
      "Num vezes 2: 4\n",
      "Num vezes 3: 6\n",
      "Num vezes 1: 3\n",
      "Num vezes 2: 6\n",
      "Num vezes 3: 9\n",
      "Num vezes 1: 4\n",
      "Num vezes 2: 8\n",
      "Num vezes 3: 12\n",
      "Num vezes 1: 5\n",
      "Num vezes 2: 10\n",
      "Num vezes 3: 15\n",
      "Num vezes 1: 6\n",
      "Num vezes 2: 12\n",
      "Num vezes 3: 18\n",
      "Num vezes 1: 7\n",
      "Num vezes 2: 14\n",
      "Num vezes 3: 21\n"
     ]
    }
   ],
   "source": [
    "for num in l:\n",
    "    print('Num vezes 1:', num)\n",
    "    print('Num vezes 2:', num * 2)\n",
    "    print('Num vezes 3:', num * 3)\n"
   ]
  },
  {
   "cell_type": "code",
   "execution_count": 211,
   "metadata": {},
   "outputs": [
    {
     "name": "stdout",
     "output_type": "stream",
     "text": [
      "1 é impar\n",
      "2 é par\n",
      "3 é impar\n",
      "4 é par\n",
      "5 é impar\n",
      "6 é par\n",
      "7 é impar\n"
     ]
    }
   ],
   "source": [
    "for num in l:\n",
    "    if num % 2 == 0:\n",
    "        print(num, 'é par')\n",
    "    else:\n",
    "        print(num, 'é impar')\n"
   ]
  },
  {
   "cell_type": "code",
   "execution_count": 212,
   "metadata": {},
   "outputs": [
    {
     "name": "stdout",
     "output_type": "stream",
     "text": [
      "1\n",
      "3\n",
      "6\n",
      "10\n",
      "15\n",
      "21\n",
      "28\n",
      "28\n"
     ]
    }
   ],
   "source": [
    "sum_ = 0\n",
    "for num in l:\n",
    "    sum_ += num\n",
    "    print(sum_)\n",
    "print(sum_)"
   ]
  },
  {
   "cell_type": "code",
   "execution_count": null,
   "metadata": {},
   "outputs": [],
   "source": []
  },
  {
   "cell_type": "code",
   "execution_count": 213,
   "metadata": {},
   "outputs": [
    {
     "name": "stdout",
     "output_type": "stream",
     "text": [
      "56\n"
     ]
    }
   ],
   "source": [
    "_ = 0\n",
    "for num in l:\n",
    "    sum_ += num\n",
    "print(sum_)"
   ]
  },
  {
   "cell_type": "code",
   "execution_count": 214,
   "metadata": {},
   "outputs": [
    {
     "name": "stdout",
     "output_type": "stream",
     "text": [
      "E\n",
      "s\n",
      "s\n",
      "a\n",
      " \n",
      "é\n",
      " \n",
      "u\n",
      "m\n",
      "a\n",
      " \n",
      "s\n",
      "t\n",
      "r\n",
      "i\n",
      "n\n",
      "!\n"
     ]
    }
   ],
   "source": [
    "string_ = 'Essa é uma strin!'\n",
    "for char in string_:\n",
    "    print(char)"
   ]
  },
  {
   "cell_type": "code",
   "execution_count": 239,
   "metadata": {},
   "outputs": [
    {
     "name": "stdout",
     "output_type": "stream",
     "text": [
      "<class 'tuple'>\n",
      "(1, 2, 3, 4, 5)\n",
      "(1, 2, 3, 4, 5)\n",
      "(1, 2, 3, 4, 5)\n",
      "(1, 2, 3, 4, 5)\n",
      "(1, 2, 3, 4, 5)\n"
     ]
    }
   ],
   "source": [
    "tup_ = (1, 2, 3, 4, 5)\n",
    "print(type(tup_))\n",
    "for t in tup_:\n",
    "    print(tup_)"
   ]
  },
  {
   "cell_type": "code",
   "execution_count": 251,
   "metadata": {},
   "outputs": [
    {
     "name": "stdout",
     "output_type": "stream",
     "text": [
      "2 e 3\n",
      "t1:  (2, 3)\n",
      "t1:  (4, 5)\n",
      "t1:  (6, 7)\n",
      "t2:  (2, 3)\n",
      "t2:  (4, 5)\n",
      "t2:  (6, 7)\n",
      "t1:  2 t2:  3\n",
      "6\n",
      "t1:  4 t2:  5\n",
      "20\n",
      "t1:  6 t2:  7\n",
      "42\n"
     ]
    }
   ],
   "source": [
    "# lista com tuplas\n",
    "l = [(2, 3), (4, 5), (6, 7)]\n",
    "(t1, t2) = l[0]\n",
    "\n",
    "print(str(t1)+\" e \"+ str(t2))\n",
    "#imprimindo tuplas\n",
    "for t1 in l:\n",
    "    print(\"t1: \", t1)\n",
    "\n",
    "for t2 in l:\n",
    "    print(\"t2: \", t2)\n",
    "\n",
    "#operando em tuplas com for\n",
    "for (t1, t2) in l:\n",
    "    print(\"t1: \", t1, \"t2: \", t2)\n",
    "    print(t1 * t2)\n",
    "\n"
   ]
  },
  {
   "cell_type": "code",
   "execution_count": 258,
   "metadata": {},
   "outputs": [
    {
     "name": "stdout",
     "output_type": "stream",
     "text": [
      "k1\n",
      "k2\n",
      "k3\n",
      "('k1', 1)\n",
      "('k2', 2)\n",
      "('k3', 3)\n",
      "1\n",
      "2\n",
      "3\n",
      "k1 : 1\n",
      "k2 : 2\n",
      "k3 : 3\n"
     ]
    }
   ],
   "source": [
    "# FOR com Dicionário\n",
    "d = {'k1':1 , 'k2':2, 'k3':3}\n",
    "\n",
    "#retornando as chaves\n",
    "for chave in d:\n",
    "    print(chave)\n",
    "\n",
    "#retornando as items\n",
    "for item in d.items():\n",
    "    print(item)\n",
    "\n",
    "#retornando valores usando Double unpacking\n",
    "for (key, valor) in d.items():\n",
    "    print(valor)\n",
    "\n",
    "#retornando items:valores\n",
    "for (key, valor) in d.items():\n",
    "    print(key, ':', valor)\n"
   ]
  },
  {
   "cell_type": "markdown",
   "metadata": {},
   "source": [
    "## While"
   ]
  },
  {
   "cell_type": "markdown",
   "metadata": {},
   "source": [
    "O formato geral de um loop while é:\n",
    "\n",
    "while teste:\n",
    "    declaração de código\n",
    "else:\n",
    "    declarações de código final"
   ]
  },
  {
   "cell_type": "code",
   "execution_count": 1,
   "metadata": {},
   "outputs": [
    {
     "name": "stdout",
     "output_type": "stream",
     "text": [
      "O valor de x é:  1\n",
      "O valor de x é:  2\n",
      "O valor de x é:  3\n",
      "O valor de x é:  4\n",
      "O valor de x é:  5\n",
      "O valor de x é:  6\n",
      "O valor de x é:  7\n",
      "O valor de x é:  8\n",
      "O valor de x é:  9\n",
      "O valor de x é:  10\n"
     ]
    }
   ],
   "source": [
    "x = 1\n",
    "while x < 10:\n",
    "    print('O valor de x é: ', x)\n",
    "    x += 1\n",
    "else:\n",
    "    print('O valor de x é: ', x)"
   ]
  },
  {
   "cell_type": "code",
   "execution_count": 2,
   "metadata": {},
   "outputs": [
    {
     "name": "stdout",
     "output_type": "stream",
     "text": [
      "O valor de x * y é:  1\n",
      "O valor de x * y é:  6\n",
      "O valor de x * y é:  15\n",
      "O valor de x * y é:  28\n",
      "O valor de x * y é:  45\n",
      "O valor de x * y é:  66\n",
      "O valor de x * y é:  91\n",
      "O valor de x * y é:  120\n",
      "O valor de x * y é:  153\n",
      "O valor de x * y é:  190\n"
     ]
    }
   ],
   "source": [
    "x = 1\n",
    "y = 1\n",
    "while (x < 10 and y< 20):\n",
    "    print('O valor de x * y é: ', x * y)\n",
    "    x += 1\n",
    "    y += 2\n",
    "else:\n",
    "    print('O valor de x * y é: ', x *y )"
   ]
  },
  {
   "cell_type": "markdown",
   "metadata": {},
   "source": [
    "### Break\n",
    "Funciona tanto em While quanto For"
   ]
  },
  {
   "cell_type": "code",
   "execution_count": 5,
   "metadata": {},
   "outputs": [
    {
     "name": "stdout",
     "output_type": "stream",
     "text": [
      "[1, 2, 3, 4, 5, 6, 7, 8, 9, 10]\n"
     ]
    }
   ],
   "source": [
    "x = 1\n",
    "lista = []\n",
    "\n",
    "while True:\n",
    "    lista += [x]\n",
    "    x += 1\n",
    "    if x > 10:\n",
    "        break\n",
    "\n",
    "print(lista)"
   ]
  },
  {
   "cell_type": "markdown",
   "metadata": {},
   "source": [
    "### Continue\n",
    "Permite que codigo abaixo seja executado quando chega a uma situação"
   ]
  },
  {
   "cell_type": "code",
   "execution_count": 7,
   "metadata": {},
   "outputs": [
    {
     "name": "stdout",
     "output_type": "stream",
     "text": [
      "2 é par\n",
      "4 é par\n",
      "6 é par\n",
      "8 é par\n",
      "10 é par\n",
      "12 é par\n",
      "14 é par\n",
      "16 é par\n",
      "18 é par\n",
      "20 é par\n",
      "22 é par\n",
      "24 é par\n",
      "26 é par\n",
      "28 é par\n",
      "30 é par\n",
      "32 é par\n",
      "34 é par\n",
      "36 é par\n",
      "38 é par\n",
      "40 é par\n",
      "42 é par\n",
      "44 é par\n",
      "46 é par\n",
      "48 é par\n",
      "50 é par\n"
     ]
    }
   ],
   "source": [
    "ate = 50\n",
    "x = 0\n",
    "while x < ate:\n",
    "    x += 1\n",
    "    if x % 2 == 1:\n",
    "        continue\n",
    "    if x % 2 == 0:\n",
    "        print(x, 'é par')"
   ]
  },
  {
   "cell_type": "markdown",
   "metadata": {},
   "source": [
    "## Range\n",
    "Permite criar listas pré determinadas"
   ]
  },
  {
   "cell_type": "code",
   "execution_count": 12,
   "metadata": {},
   "outputs": [
    {
     "name": "stdout",
     "output_type": "stream",
     "text": [
      "<class 'range'>\n",
      "range(0, 10)\n",
      "[0, 1, 2, 3, 4, 5, 6, 7, 8, 9]\n",
      "range(0, 10)\n",
      "[0, 1, 2, 3, 4, 5, 6, 7, 8, 9]\n"
     ]
    }
   ],
   "source": [
    "l = range(0, 10, 1)\n",
    "print(type(l))\n",
    "print(l)\n",
    "print(list(l))\n",
    "print(l)\n",
    "lista = list(l)\n",
    "print(lista)\n"
   ]
  },
  {
   "cell_type": "code",
   "execution_count": 22,
   "metadata": {},
   "outputs": [
    {
     "name": "stdout",
     "output_type": "stream",
     "text": [
      "[30, 28, 26, 24, 22, 20, 18, 16, 14, 12, 10, 8, 6, 4, 2]\n",
      "0\n",
      "1\n",
      "2\n",
      "3\n",
      "4\n",
      "5\n",
      "6\n",
      "7\n",
      "8\n",
      "9\n",
      "10\n",
      "11\n"
     ]
    }
   ],
   "source": [
    "range2 = range(30, 0, -2)\n",
    "print(list(range2))\n",
    "\n",
    "for i in range(0, 20):\n",
    "    print(i)\n",
    "    if i > 10:\n",
    "        break"
   ]
  },
  {
   "cell_type": "markdown",
   "metadata": {},
   "source": [
    "## Compreensão em Listas"
   ]
  },
  {
   "cell_type": "code",
   "execution_count": 39,
   "metadata": {},
   "outputs": [
    {
     "name": "stdout",
     "output_type": "stream",
     "text": [
      "[1, 2, 3, 4, 5, 6, 7, 8, 9]\n",
      "[1, 2, 3, 4, 5, 6, 7, 8, 9]\n",
      "[12, 14, 16, 18, 20, 22, 24, 26, 28]\n",
      "[]\n",
      "[0, 2, 4, 6, 8, 10, 12, 14, 16, 18]\n",
      "['w', 'o', 'r', 'd']\n"
     ]
    },
    {
     "data": {
      "text/plain": [
       "[32.0, 50.0, 59.0, 68.0, 86.0, 122.0, 212.0]"
      ]
     },
     "execution_count": 39,
     "metadata": {},
     "output_type": "execute_result"
    }
   ],
   "source": [
    "# Criando e Adicionando itens na lista sem usar append\n",
    "x = []\n",
    "for i in range(1, 10):\n",
    "    x += [i]\n",
    "    #equivale a x.append()\n",
    "print(x)\n",
    "\n",
    "# Criando e adicionando itens na lista sem usar append de outra forma\n",
    "x2 = [i for i in range (1,10)]\n",
    "print(x2)\n",
    "\n",
    "# Operação matematica dentro da lista\n",
    "x3 = [i*2 + 10 for i in range (1, 10)]\n",
    "print(x3)\n",
    "\n",
    "#Criação de listas mescladas com IF (exemplo criando lista com numeros pares)\n",
    "#Metodo tradicional\n",
    "x4 = []\n",
    "for i in range(0, 20):\n",
    "    if i % 2 == 0:\n",
    "        x += [i]\n",
    "print(x4)\n",
    "\n",
    "#Usando compreensão em listas\n",
    "x5 = [i for i in range(0,20) if i % 2 == 0]\n",
    "print(x5)\n",
    "\n",
    "#Usando compreensao em listas para String\n",
    "lista = [i for i in 'word']\n",
    "print(lista)\n",
    "\n",
    "#Conversão de temperaturas de Celsius para Fahrenheit\n",
    "celsius = [0, 10, 15, 20, 30, 50, 100]\n",
    "\n",
    "fahrenheit =[(temp * (9/5) + 32) for temp in celsius]\n",
    "print(fahrenheit)"
   ]
  },
  {
   "cell_type": "markdown",
   "metadata": {},
   "source": [
    "## Testes de Avaliação de Declaração"
   ]
  },
  {
   "cell_type": "markdown",
   "metadata": {},
   "source": [
    "____\n",
    "** Use for, split() e if para criar uma declaração que imprima as palavras que começam com 's': **"
   ]
  },
  {
   "cell_type": "code",
   "execution_count": 46,
   "metadata": {},
   "outputs": [
    {
     "name": "stdout",
     "output_type": "stream",
     "text": [
      "['Print', 'only', 'the', 'words', 'that', 'start', 'with', 's', 'in', 'this', 'sentence']\n",
      "start\n",
      "s\n",
      "sentence\n"
     ]
    }
   ],
   "source": [
    "st = 'Print only the words that start with s in this sentence'\n",
    "split_string = st.split() # cria uma lista contendo as palavras separadas\n",
    "print(split_string) \n",
    "for letra in split_string:\n",
    "    if letra[0] == 's':\n",
    "        print(letra)"
   ]
  },
  {
   "cell_type": "markdown",
   "metadata": {},
   "source": [
    "_____\n",
    "** Use range() para imprimir todos os números pares de 0 a 10. **"
   ]
  },
  {
   "cell_type": "code",
   "execution_count": 51,
   "metadata": {},
   "outputs": [
    {
     "name": "stdout",
     "output_type": "stream",
     "text": [
      "[0, 2, 4, 6, 8]\n",
      "0\n",
      "2\n",
      "4\n",
      "6\n",
      "8\n"
     ]
    }
   ],
   "source": [
    "# 1a forma : saltando de 2 em 2\n",
    "l = list(range(0, 10, 2))\n",
    "print(l)\n",
    "\n",
    "# 2a forma\n",
    "x = range (0, 10)\n",
    "for num in x:\n",
    "    if num % 2 == 0:\n",
    "        print(num)"
   ]
  },
  {
   "cell_type": "markdown",
   "metadata": {},
   "source": [
    "___\n",
    "** Use a compreensão de lista para criar uma lista de todos os números entre 1 e 50 que são divisíveis por 3. **"
   ]
  },
  {
   "cell_type": "code",
   "execution_count": 52,
   "metadata": {},
   "outputs": [
    {
     "data": {
      "text/plain": [
       "[3, 6, 9, 12, 15, 18, 21, 24, 27, 30, 33, 36, 39, 42, 45, 48]"
      ]
     },
     "execution_count": 52,
     "metadata": {},
     "output_type": "execute_result"
    }
   ],
   "source": [
    "[x for x in range(1,50) if x % 3 == 0]"
   ]
  },
  {
   "cell_type": "markdown",
   "metadata": {},
   "source": [
    "_____\n",
    "** Percorra a string abaixo e se o comprimento de uma palavra for par imprima \"é par!\" **"
   ]
  },
  {
   "cell_type": "code",
   "execution_count": 63,
   "metadata": {},
   "outputs": [
    {
     "name": "stdout",
     "output_type": "stream",
     "text": [
      "Print  é impar\n",
      "every  é impar\n",
      "word  É par!\n",
      "in  É par!\n",
      "this  É par!\n",
      "sentence  É par!\n",
      "that  É par!\n",
      "has  é impar\n",
      "an  É par!\n",
      "even  É par!\n",
      "number  É par!\n",
      "of  É par!\n",
      "letters  é impar\n"
     ]
    }
   ],
   "source": [
    "st = 'Print every word in this sentence that has an even number of letters'\n",
    "split_string = st.split()\n",
    "for i in split_string:\n",
    "    tamanho = len(i)\n",
    "    if tamanho % 2 == 0:\n",
    "        print(i, ' É par!')\n",
    "    else:\n",
    "        print(i , ' é impar')"
   ]
  },
  {
   "cell_type": "markdown",
   "metadata": {},
   "source": [
    "___\n",
    "** Escreva um programa que imprima os números inteiros de 1 a 100. Para múltiplos de três imprima \"Fizz\" ao ivés do número, e para os múltiplos de cinco imprima \"Buzz\". Para números que são múltiplos de três e cinco imprima \"FizzBuzz\". **"
   ]
  },
  {
   "cell_type": "code",
   "execution_count": 76,
   "metadata": {},
   "outputs": [
    {
     "name": "stdout",
     "output_type": "stream",
     "text": [
      "1\n",
      "2\n",
      "Fizz\n",
      "4\n",
      "Buzz\n",
      "Fizz\n",
      "7\n",
      "8\n",
      "Fizz\n"
     ]
    }
   ],
   "source": [
    "x = range(1, 10)\n",
    "for x in x:\n",
    "    if x % 3 == 0 and x % 5 == 0:\n",
    "        print('É FizzBuzz')\n",
    "    elif x % 3 == 0:\n",
    "        print('Fizz')\n",
    "    elif x % 5 == 0:\n",
    "        print('Buzz')\n",
    "    else:\n",
    "        print(x)"
   ]
  },
  {
   "cell_type": "markdown",
   "metadata": {},
   "source": [
    "____\n",
    "** Use Compreensão em listas para criar uma lista das primeiras letras de cada palavra na string abaixo: **"
   ]
  },
  {
   "cell_type": "code",
   "execution_count": 77,
   "metadata": {},
   "outputs": [
    {
     "data": {
      "text/plain": [
       "['C', 'a', 'l', 'o', 't', 'f', 'l', 'o', 'e', 'w', 'i', 't', 's']"
      ]
     },
     "execution_count": 77,
     "metadata": {},
     "output_type": "execute_result"
    }
   ],
   "source": [
    "st = 'Create a list of the first letters of every word in this string'\n",
    "[letter[0] for letter in st.split()]"
   ]
  },
  {
   "cell_type": "markdown",
   "metadata": {},
   "source": [
    "## Funções"
   ]
  },
  {
   "cell_type": "code",
   "execution_count": 1,
   "metadata": {},
   "outputs": [
    {
     "ename": "SyntaxError",
     "evalue": "EOL while scanning string literal (269407910.py, line 4)",
     "output_type": "error",
     "traceback": [
      "\u001b[0;36m  File \u001b[0;32m\"/var/folders/nr/z_6c11614wd3vv7qr6hw1l800000gn/T/ipykernel_7367/269407910.py\"\u001b[0;36m, line \u001b[0;32m4\u001b[0m\n\u001b[0;31m    \"\"\"\"\u001b[0m\n\u001b[0m        \n^\u001b[0m\n\u001b[0;31mSyntaxError\u001b[0m\u001b[0;31m:\u001b[0m EOL while scanning string literal\n"
     ]
    }
   ],
   "source": [
    "def primeira_funcao():\n",
    "    \"\"\"\n",
    "    Printa Olá Mundo    \n",
    "    \"\"\"\"\n",
    "    print('Ola, mundo!')\n",
    "    pass\n",
    "\n",
    "primeira_funcao()\n",
    "\n",
    "def soma(num1, num2):\n",
    "    \"\"\"\n",
    "    Printa Soma    \n",
    "    \"\"\"\"\n",
    "    print(num1+num2)\n",
    "\n",
    "soma(1, 2)"
   ]
  }
 ],
 "metadata": {
  "interpreter": {
   "hash": "5edc29c2ed010d6458d71a83433b383a96a8cbd3efe8531bc90c4b8a5b8bcec9"
  },
  "kernelspec": {
   "display_name": "Python 3.8.2 64-bit",
   "name": "python3"
  },
  "language_info": {
   "codemirror_mode": {
    "name": "ipython",
    "version": 3
   },
   "file_extension": ".py",
   "mimetype": "text/x-python",
   "name": "python",
   "nbconvert_exporter": "python",
   "pygments_lexer": "ipython3",
   "version": "3.8.9"
  },
  "metadata": {
   "interpreter": {
    "hash": "31f2aee4e71d21fbe5cf8b01ff0e069b9275f58929596ceb00d14d90e3e16cd6"
   }
  },
  "orig_nbformat": 2
 },
 "nbformat": 4,
 "nbformat_minor": 2
}
